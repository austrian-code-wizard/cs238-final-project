{
 "cells": [
  {
   "cell_type": "code",
   "execution_count": 1,
   "metadata": {},
   "outputs": [],
   "source": [
    "import torch\n",
    "from torch import nn\n",
    "import numpy as np\n",
    "import random\n",
    "from collections import deque\n",
    "from itertools import count\n",
    "import torch.nn.functional as F\n",
    "from mdp import TradeExecutionEnv, DiscreteTradeSizeWrapper\n",
    "from tensorboardX import SummaryWriter\n",
    "from torch.distributions import Categorical\n",
    "\n",
    "\n",
    "SEED = 42\n",
    "HORIZON = 5 * 12 * 2\n",
    "UNITS_TO_SELL = 64\n",
    "BATCH_SIZE = 32\n",
    "EPOCHS = 300\n",
    "EVAL_EPOCHS = 50\n",
    "EPSILON = 0.1\n",
    "GAMMA = 0.99\n",
    "\n",
    "env = TradeExecutionEnv()\n",
    "\n",
    "trade_sizes = {\n",
    "  i: i*2 for i in range(33)\n",
    "}\n",
    "env = DiscreteTradeSizeWrapper(env, trade_sizes)\n",
    "\n",
    "device = torch.device(\"cuda:0\" if torch.cuda.is_available() else \"cpu\")\n",
    "\n",
    "\n",
    "class CategoricalPolicy(nn.Module):\n",
    "    def __init__(self, num_states, num_actions, hidden_dim=32) -> None:\n",
    "        super().__init__()\n",
    "        self.fc1 = nn.Linear(num_states, hidden_dim)\n",
    "        self.fc2 = nn.Linear(hidden_dim, num_actions)\n",
    "        \n",
    "    def forward(self, x):\n",
    "        x = F.relu(self.fc1(x[:, -1, :]))\n",
    "        x = F.softmax(self.fc2(x), dim=1)\n",
    "        return x\n",
    "\n",
    "    def select_action(self, state):\n",
    "        probs = self.forward(state)\n",
    "        m = Categorical(probs)\n",
    "        action = m.sample()\n",
    "        return action.item(), m.log_prob(action)"
   ]
  },
  {
   "cell_type": "code",
   "execution_count": 2,
   "metadata": {},
   "outputs": [],
   "source": [
    "def parse_state(state):\n",
    "    data = torch.FloatTensor(np.stack([\n",
    "        state[\"low\"].to_numpy(),\n",
    "        state[\"high\"].to_numpy(),\n",
    "        state[\"close\"].to_numpy(),\n",
    "        state[\"open\"].to_numpy(),\n",
    "        state[\"volume\"].to_numpy(),\n",
    "    ])).T\n",
    "    return torch.concat([\n",
    "        data,\n",
    "        torch.repeat_interleave(torch.FloatTensor([[state[\"units_sold\"]]]), 6, 0),\n",
    "        torch.repeat_interleave(torch.FloatTensor([[state[\"cost_basis\"]]]), 6, 0),\n",
    "        torch.repeat_interleave(torch.FloatTensor([[state[\"steps_left\"]]]), 6, 0),\n",
    "    ], dim=1).unsqueeze(0)"
   ]
  },
  {
   "cell_type": "code",
   "execution_count": 3,
   "metadata": {},
   "outputs": [],
   "source": [
    "def sample_rollouts(policy, env, num_rollouts, seed=SEED):\n",
    "    trajs = []\n",
    "    for e in range(num_rollouts):\n",
    "        tau = []\n",
    "        state = env.reset(UNITS_TO_SELL, HORIZON, seed=(seed * num_rollouts) + e)\n",
    "        state = parse_state(state)\n",
    "        done = False\n",
    "        while not done:\n",
    "            with torch.no_grad():\n",
    "                action, _ = policy.select_action(state)\n",
    "            next_state, reward, done, _, _ = env.step(action)\n",
    "            next_state = parse_state(next_state)\n",
    "            tau.append((state, action, reward))\n",
    "            state = next_state\n",
    "        states, actions, rewards = zip(*tau)\n",
    "        states = torch.cat(states)\n",
    "        actions = torch.tensor([actions])\n",
    "        rewards = torch.tensor([rewards])\n",
    "        trajs.append((states, actions, rewards))\n",
    "    return trajs"
   ]
  },
  {
   "cell_type": "code",
   "execution_count": 4,
   "metadata": {},
   "outputs": [],
   "source": [
    "def R_tau(r, gamma):\n",
    "    gammas = torch.tensor([gamma**i for i in range(len(r))])\n",
    "    return torch.sum(gammas * r)\n",
    "\n",
    "def avg_batch_rewards(trajs, gamma):\n",
    "    return torch.mean(torch.stack([R_tau(r, gamma) for _, _, r in trajs]))\n",
    "\n",
    "def grad_log_pi(policy, states, actions):\n",
    "    logits = policy(states)\n",
    "    log_probs = torch.log(logits)\n",
    "    log_probs = log_probs.gather(1,actions).T.flatten()\n",
    "    g = [torch.autograd.grad(log_p, policy.parameters(), retain_graph=True) for log_p in log_probs]\n",
    "    return g"
   ]
  },
  {
   "cell_type": "code",
   "execution_count": 5,
   "metadata": {},
   "outputs": [],
   "source": [
    "def grad_log_tau(policy, tau):\n",
    "  g = grad_log_pi(policy, tau[0], tau[1])\n",
    "  stacked_g = [torch.stack(g_).view(len(tau[0]), -1) for g_ in zip(*g)]\n",
    "  return torch.cat(stacked_g, axis=1).sum(axis=0)\n",
    "\n",
    "def grad_U_tau(policy, tau, gamma):\n",
    "  return grad_log_tau(policy, tau) * R_tau(tau[2], gamma)\n"
   ]
  },
  {
   "cell_type": "code",
   "execution_count": 6,
   "metadata": {},
   "outputs": [
    {
     "name": "stderr",
     "output_type": "stream",
     "text": [
      "/var/folders/k3/xxcvpr8d71d8zr8__nlkymdm0000gn/T/ipykernel_56794/408031376.py:11: UserWarning: The use of `x.T` on tensors of dimension other than 2 to reverse their shape is deprecated and it will throw an error in a future release. Consider `x.mT` to transpose batches of matrices or `x.permute(*torch.arange(x.ndim - 1, -1, -1))` to reverse the dimensions of a tensor. (Triggered internally at /Users/runner/work/pytorch/pytorch/pytorch/aten/src/ATen/native/TensorShape.cpp:3580.)\n",
      "  g = u * torch.sqrt(2 * EPSILON / (g_u.T @ u))\n"
     ]
    },
    {
     "name": "stdout",
     "output_type": "stream",
     "text": [
      "iter 0: -9.707906789809204\n",
      "iter 10: -10.0\n",
      "iter 20: -9.393291799362299\n",
      "iter 30: -8.508725680989519\n",
      "iter 40: -10.0\n",
      "iter 50: -9.705515914872356\n",
      "iter 60: -9.691710885192952\n",
      "iter 70: -8.489100294018947\n",
      "iter 80: -9.12196761485022\n",
      "iter 90: -9.09456244439741\n",
      "iter 100: -9.41599968103855\n",
      "iter 110: -8.818810472996935\n",
      "iter 120: -8.194608088762617\n",
      "iter 130: -9.68976557544274\n",
      "iter 140: -8.512150796672536\n",
      "iter 150: -9.688682870275528\n",
      "iter 160: -9.401640201756003\n",
      "iter 170: -9.106346155611117\n",
      "iter 180: -9.392359980649863\n",
      "iter 190: -9.422141135973249\n",
      "iter 200: -8.492243488305343\n",
      "iter 210: -8.18447905256977\n",
      "iter 220: -10.0\n",
      "iter 230: -9.100808011783618\n",
      "iter 240: -8.48213370144627\n",
      "iter 250: -9.075429974248003\n",
      "iter 260: -8.48247106113919\n",
      "iter 270: -9.112153707933196\n",
      "iter 280: -9.099216905375275\n",
      "iter 290: -9.413890219237118\n"
     ]
    }
   ],
   "source": [
    "policy = CategoricalPolicy(len(env.observation_space), len(trade_sizes)).to(device)\n",
    "\n",
    "train_rewards = []\n",
    "for e in range(EPOCHS):\n",
    "  trajs = sample_rollouts(policy, env, BATCH_SIZE, seed=e)\n",
    "  g_u_tau = [grad_U_tau(policy, tau, GAMMA) for tau in trajs]\n",
    "  Fish = torch.stack([gut.unsqueeze(1) @ gut.unsqueeze(0) for gut in g_u_tau]).mean(axis=0)\n",
    "  g_u = torch.stack(g_u_tau).mean(axis=0)\n",
    "  u = torch.linalg.pinv(Fish) @ g_u.unsqueeze(0).T\n",
    "  #u = torch.linalg.inv(Fish + torch.FloatTensor(np.diag([0.1] * Fish.shape[0]))) @ g_u.unsqueeze(0).T\n",
    "  g = u * torch.sqrt(2 * EPSILON / (g_u.T @ u))\n",
    "  #print(f\"G: {g}\")\n",
    "  n = 0\n",
    "  for i, p in enumerate(policy.parameters()):\n",
    "    num_elements = p.numel()\n",
    "    p.data += g[n:n+num_elements].view(p.shape)\n",
    "    n += num_elements\n",
    "  policy.zero_grad()\n",
    "  train_rewards.append(avg_batch_rewards(trajs, GAMMA).item())\n",
    "  if e % 10 == 0:\n",
    "    print(f\"iter {e}: {avg_batch_rewards(trajs, GAMMA)}\")"
   ]
  },
  {
   "cell_type": "code",
   "execution_count": 7,
   "metadata": {},
   "outputs": [
    {
     "name": "stdout",
     "output_type": "stream",
     "text": [
      "Avg same mdp eval reward: -10.0\n"
     ]
    }
   ],
   "source": [
    "same_mdp_eval_rewards = []\n",
    "for e in range(EVAL_EPOCHS):\n",
    "    state = env.reset(UNITS_TO_SELL, HORIZON, seed=SEED)\n",
    "    state = parse_state(state)\n",
    "    done = False\n",
    "    episode_rewards = 0\n",
    "    while not done:\n",
    "        with torch.no_grad():\n",
    "            action = torch.argmax(policy(state)).item()\n",
    "        next_state, reward, done, _, _ = env.step(action)\n",
    "        next_state = parse_state(next_state)\n",
    "        state = next_state\n",
    "        episode_rewards += reward\n",
    "    same_mdp_eval_rewards.append(episode_rewards)\n",
    "print(f\"Avg same mdp eval reward: {np.mean(same_mdp_eval_rewards)}\")"
   ]
  },
  {
   "cell_type": "code",
   "execution_count": 8,
   "metadata": {},
   "outputs": [
    {
     "name": "stdout",
     "output_type": "stream",
     "text": [
      "Avg train mdp eval reward: -3.1852614945864657\n"
     ]
    }
   ],
   "source": [
    "train_mdp_eval_rewards = []\n",
    "for e in range(EVAL_EPOCHS):\n",
    "    state = env.reset(UNITS_TO_SELL, HORIZON, seed=(BATCH_SIZE * EPOCHS)+e)\n",
    "    state = parse_state(state)\n",
    "    done = False\n",
    "    episode_rewards = 0\n",
    "    while not done:\n",
    "        with torch.no_grad():\n",
    "            action = torch.argmax(policy(state)).item()\n",
    "        next_state, reward, done, _, _ = env.step(action)\n",
    "        next_state = parse_state(next_state)\n",
    "        state = next_state\n",
    "        episode_rewards += reward\n",
    "    train_mdp_eval_rewards.append(episode_rewards)\n",
    "print(f\"Avg train mdp eval reward: {np.mean(train_mdp_eval_rewards)}\")"
   ]
  },
  {
   "cell_type": "code",
   "execution_count": 9,
   "metadata": {},
   "outputs": [
    {
     "name": "stdout",
     "output_type": "stream",
     "text": [
      "Avg test mdp eval reward: -2.186847392098957\n"
     ]
    }
   ],
   "source": [
    "test_mdp_eval_rewards = []\n",
    "for e in range(EVAL_EPOCHS):\n",
    "    state = env.reset(UNITS_TO_SELL, HORIZON, seed=SEED+e, test=True)\n",
    "    state = parse_state(state)\n",
    "    done = False\n",
    "    episode_rewards = 0\n",
    "    while not done:\n",
    "        with torch.no_grad():\n",
    "            action = torch.argmax(policy(state)).item()\n",
    "        next_state, reward, done, _, _ = env.step(action)\n",
    "        next_state = parse_state(next_state)\n",
    "        state = next_state\n",
    "        episode_rewards += reward\n",
    "    test_mdp_eval_rewards.append(episode_rewards)\n",
    "print(f\"Avg test mdp eval reward: {np.mean(test_mdp_eval_rewards)}\")"
   ]
  },
  {
   "cell_type": "code",
   "execution_count": 10,
   "metadata": {},
   "outputs": [],
   "source": [
    "import json\n",
    "\n",
    "EXP_NAME = \"natural_gradient_update_meta_mdp_train.json\"\n",
    "with open(f\"./results/{EXP_NAME}\", \"w+\") as f:\n",
    "    json.dump({\n",
    "        \"train_rewards\": train_rewards,\n",
    "        \"same_mdp_eval_rewards\": same_mdp_eval_rewards,\n",
    "        \"train_mdp_eval_rewards\": train_mdp_eval_rewards,\n",
    "        \"test_mdp_eval_rewards\": test_mdp_eval_rewards\n",
    "    }, f)"
   ]
  },
  {
   "cell_type": "code",
   "execution_count": null,
   "metadata": {},
   "outputs": [],
   "source": []
  }
 ],
 "metadata": {
  "kernelspec": {
   "display_name": "Python 3.11.0 ('cs238')",
   "language": "python",
   "name": "python3"
  },
  "language_info": {
   "codemirror_mode": {
    "name": "ipython",
    "version": 3
   },
   "file_extension": ".py",
   "mimetype": "text/x-python",
   "name": "python",
   "nbconvert_exporter": "python",
   "pygments_lexer": "ipython3",
   "version": "3.11.0"
  },
  "orig_nbformat": 4,
  "vscode": {
   "interpreter": {
    "hash": "1b0a38c3e275318a53fcb279e5fdf7a9fef28081cd7e4603c16e0b245341a686"
   }
  }
 },
 "nbformat": 4,
 "nbformat_minor": 2
}

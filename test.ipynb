{
 "cells": [
  {
   "cell_type": "code",
   "execution_count": 40,
   "metadata": {},
   "outputs": [],
   "source": [
    "from mdp import TradeExecutionEnv, DiscreteTradeSizeWrapper\n",
    "\n",
    "SEED = 42\n",
    "HORIZON = 5 * 12 * 8\n",
    "UNITS_TO_SELL = 240\n",
    "\n",
    "env = TradeExecutionEnv()\n",
    "\n",
    "trade_sizes = {\n",
    "  0: 0,\n",
    "  1: 1,\n",
    "  2: 2,\n",
    "  3: 4,\n",
    "  4: 8,\n",
    "  5: 16,\n",
    "  6: 32,\n",
    "  7: 64,\n",
    "  8: 128,\n",
    "  9: 240\n",
    "}\n",
    "env = DiscreteTradeSizeWrapper(env, trade_sizes)"
   ]
  },
  {
   "cell_type": "code",
   "execution_count": 41,
   "metadata": {},
   "outputs": [
    {
     "data": {
      "text/plain": [
       "{'open': 860    0.514604\n",
       " 861    0.520626\n",
       " 862    0.514098\n",
       " 863    0.501656\n",
       " 864    0.511593\n",
       " 865    0.497741\n",
       " Name: Open, dtype: float64,\n",
       " 'high': 860    0.523637\n",
       " 861    0.526046\n",
       " 862    0.521529\n",
       " 863    0.512797\n",
       " 864    0.516411\n",
       " 865    0.498946\n",
       " Name: High, dtype: float64,\n",
       " 'low': 860    0.511593\n",
       " 861    0.514001\n",
       " 862    0.501355\n",
       " 863    0.497441\n",
       " 864    0.495333\n",
       " 865    0.479193\n",
       " Name: Low, dtype: float64,\n",
       " 'close': 860    0.520253\n",
       " 861    0.514604\n",
       " 862    0.501957\n",
       " 863    0.511292\n",
       " 864    0.497531\n",
       " 865    0.483890\n",
       " Name: Close, dtype: float64,\n",
       " 'volume': 860   -0.942510\n",
       " 861   -0.953533\n",
       " 862   -0.936444\n",
       " 863   -0.937798\n",
       " 864   -0.940946\n",
       " 865   -0.920178\n",
       " Name: Volume, dtype: float64,\n",
       " 'units_sold': 0.0,\n",
       " 'cost_basis': 0}"
      ]
     },
     "execution_count": 41,
     "metadata": {},
     "output_type": "execute_result"
    }
   ],
   "source": [
    "env.reset(UNITS_TO_SELL, HORIZON, SEED)"
   ]
  },
  {
   "cell_type": "code",
   "execution_count": 47,
   "metadata": {},
   "outputs": [],
   "source": [
    "obs, r, done, _, info = env.step(8)"
   ]
  },
  {
   "cell_type": "code",
   "execution_count": 49,
   "metadata": {},
   "outputs": [
    {
     "data": {
      "text/plain": [
       "-10"
      ]
     },
     "execution_count": 49,
     "metadata": {},
     "output_type": "execute_result"
    }
   ],
   "source": [
    "r"
   ]
  },
  {
   "cell_type": "code",
   "execution_count": 6,
   "metadata": {},
   "outputs": [
    {
     "data": {
      "text/plain": [
       "array([0.51400147, 0.50135522, 0.49744056, 0.49533258, 0.47919251,\n",
       "       0.47003906])"
      ]
     },
     "execution_count": 6,
     "metadata": {},
     "output_type": "execute_result"
    }
   ],
   "source": [
    "obs[\"low\"].to_numpy()"
   ]
  },
  {
   "cell_type": "code",
   "execution_count": 7,
   "metadata": {},
   "outputs": [],
   "source": [
    "import torch"
   ]
  },
  {
   "cell_type": "code",
   "execution_count": 20,
   "metadata": {},
   "outputs": [],
   "source": [
    "data = torch.FloatTensor([\n",
    "  obs[\"low\"].to_numpy(),\n",
    "  obs[\"high\"].to_numpy(),\n",
    "  obs[\"close\"].to_numpy(),\n",
    "  obs[\"open\"].to_numpy(),\n",
    "  obs[\"volume\"].to_numpy(),\n",
    "]).T"
   ]
  },
  {
   "cell_type": "code",
   "execution_count": 22,
   "metadata": {},
   "outputs": [
    {
     "data": {
      "text/plain": [
       "tensor([[ 0.5140,  0.5260,  0.5146,  0.5206, -0.9535,  0.0667,  0.4574],\n",
       "        [ 0.5014,  0.5215,  0.5020,  0.5141, -0.9364,  0.0667,  0.4574],\n",
       "        [ 0.4974,  0.5128,  0.5113,  0.5017, -0.9378,  0.0667,  0.4574],\n",
       "        [ 0.4953,  0.5164,  0.4975,  0.5116, -0.9409,  0.0667,  0.4574],\n",
       "        [ 0.4792,  0.4989,  0.4839,  0.4977, -0.9202,  0.0667,  0.4574],\n",
       "        [ 0.4700,  0.4965,  0.4712,  0.4833, -0.8769,  0.0667,  0.4574]])"
      ]
     },
     "execution_count": 22,
     "metadata": {},
     "output_type": "execute_result"
    }
   ],
   "source": [
    "torch.concat([\n",
    "  data,\n",
    "  torch.repeat_interleave(torch.FloatTensor([[obs[\"units_sold\"]]]), 6, 0),\n",
    "  torch.repeat_interleave(torch.FloatTensor([[obs[\"cost_basis\"]]]), 6, 0),\n",
    "], dim=1)"
   ]
  },
  {
   "cell_type": "code",
   "execution_count": 17,
   "metadata": {},
   "outputs": [
    {
     "data": {
      "text/plain": [
       "tensor([0.0667, 0.0667, 0.0667, 0.0667, 0.0667, 0.0667])"
      ]
     },
     "execution_count": 17,
     "metadata": {},
     "output_type": "execute_result"
    }
   ],
   "source": [
    "torch.repeat_interleave(torch.FloatTensor([obs[\"units_sold\"]]), 6)"
   ]
  },
  {
   "cell_type": "code",
   "execution_count": 19,
   "metadata": {},
   "outputs": [
    {
     "ename": "AttributeError",
     "evalue": "'torch.Size' object has no attribute 'shape'",
     "output_type": "error",
     "traceback": [
      "\u001b[0;31m---------------------------------------------------------------------------\u001b[0m",
      "\u001b[0;31mAttributeError\u001b[0m                            Traceback (most recent call last)",
      "Cell \u001b[0;32mIn[19], line 1\u001b[0m\n\u001b[0;32m----> 1\u001b[0m data\u001b[39m.\u001b[39mshape\n",
      "\u001b[0;31mAttributeError\u001b[0m: 'torch.Size' object has no attribute 'shape'"
     ]
    }
   ],
   "source": [
    "data.shape"
   ]
  },
  {
   "cell_type": "code",
   "execution_count": 30,
   "metadata": {},
   "outputs": [],
   "source": [
    "import pandas as pd\n",
    "df = pd.read_csv(\"./data/5m_intraday_data.csv\")"
   ]
  },
  {
   "cell_type": "code",
   "execution_count": 31,
   "metadata": {},
   "outputs": [
    {
     "data": {
      "text/html": [
       "<div>\n",
       "<style scoped>\n",
       "    .dataframe tbody tr th:only-of-type {\n",
       "        vertical-align: middle;\n",
       "    }\n",
       "\n",
       "    .dataframe tbody tr th {\n",
       "        vertical-align: top;\n",
       "    }\n",
       "\n",
       "    .dataframe thead th {\n",
       "        text-align: right;\n",
       "    }\n",
       "</style>\n",
       "<table border=\"1\" class=\"dataframe\">\n",
       "  <thead>\n",
       "    <tr style=\"text-align: right;\">\n",
       "      <th></th>\n",
       "      <th>Timestamp</th>\n",
       "      <th>Gmtoffset</th>\n",
       "      <th>Datetime</th>\n",
       "      <th>Open</th>\n",
       "      <th>High</th>\n",
       "      <th>Low</th>\n",
       "      <th>Close</th>\n",
       "      <th>Volume</th>\n",
       "    </tr>\n",
       "  </thead>\n",
       "  <tbody>\n",
       "    <tr>\n",
       "      <th>1462</th>\n",
       "      <td>1669398600</td>\n",
       "      <td>0</td>\n",
       "      <td>2022-11-25 17:50:00</td>\n",
       "      <td>NaN</td>\n",
       "      <td>NaN</td>\n",
       "      <td>NaN</td>\n",
       "      <td>NaN</td>\n",
       "      <td>NaN</td>\n",
       "    </tr>\n",
       "    <tr>\n",
       "      <th>1463</th>\n",
       "      <td>1669398900</td>\n",
       "      <td>0</td>\n",
       "      <td>2022-11-25 17:55:00</td>\n",
       "      <td>NaN</td>\n",
       "      <td>NaN</td>\n",
       "      <td>NaN</td>\n",
       "      <td>NaN</td>\n",
       "      <td>NaN</td>\n",
       "    </tr>\n",
       "  </tbody>\n",
       "</table>\n",
       "</div>"
      ],
      "text/plain": [
       "       Timestamp  Gmtoffset             Datetime  Open  High  Low  Close  \\\n",
       "1462  1669398600          0  2022-11-25 17:50:00   NaN   NaN  NaN    NaN   \n",
       "1463  1669398900          0  2022-11-25 17:55:00   NaN   NaN  NaN    NaN   \n",
       "\n",
       "      Volume  \n",
       "1462     NaN  \n",
       "1463     NaN  "
      ]
     },
     "execution_count": 31,
     "metadata": {},
     "output_type": "execute_result"
    }
   ],
   "source": [
    "df[df['Open'].isna()]"
   ]
  },
  {
   "cell_type": "code",
   "execution_count": 39,
   "metadata": {},
   "outputs": [
    {
     "data": {
      "text/plain": [
       "Timestamp             1669398600\n",
       "Gmtoffset                      0\n",
       "Datetime     2022-11-25 17:50:00\n",
       "Open                         NaN\n",
       "High                         NaN\n",
       "Low                          NaN\n",
       "Close                        NaN\n",
       "Volume                       NaN\n",
       "Name: 1462, dtype: object"
      ]
     },
     "execution_count": 39,
     "metadata": {},
     "output_type": "execute_result"
    }
   ],
   "source": [
    "df.iloc[1462]"
   ]
  },
  {
   "cell_type": "code",
   "execution_count": 38,
   "metadata": {},
   "outputs": [
    {
     "data": {
      "text/plain": [
       "Timestamp             1669398600\n",
       "Gmtoffset                      0\n",
       "Datetime     2022-11-25 17:50:00\n",
       "Open                  147.989995\n",
       "High                  148.030003\n",
       "Low                   147.886667\n",
       "Close                 147.981669\n",
       "Volume            2406348.333333\n",
       "Name: 1462, dtype: object"
      ]
     },
     "execution_count": 38,
     "metadata": {},
     "output_type": "execute_result"
    }
   ],
   "source": [
    "df.interpolate().iloc[1462]"
   ]
  },
  {
   "cell_type": "code",
   "execution_count": null,
   "metadata": {},
   "outputs": [],
   "source": []
  }
 ],
 "metadata": {
  "kernelspec": {
   "display_name": "Python 3.11.0 ('cs238')",
   "language": "python",
   "name": "python3"
  },
  "language_info": {
   "codemirror_mode": {
    "name": "ipython",
    "version": 3
   },
   "file_extension": ".py",
   "mimetype": "text/x-python",
   "name": "python",
   "nbconvert_exporter": "python",
   "pygments_lexer": "ipython3",
   "version": "3.11.0"
  },
  "orig_nbformat": 4,
  "vscode": {
   "interpreter": {
    "hash": "1b0a38c3e275318a53fcb279e5fdf7a9fef28081cd7e4603c16e0b245341a686"
   }
  }
 },
 "nbformat": 4,
 "nbformat_minor": 2
}
